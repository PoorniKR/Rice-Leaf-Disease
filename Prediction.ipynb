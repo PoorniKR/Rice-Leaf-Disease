{
 "cells": [
  {
   "cell_type": "code",
   "execution_count": null,
   "metadata": {
    "id": "LnEph9FbtgwW",
    "outputId": "d0c690ae-fe5c-43c5-c6f1-e372c374ad2a"
   },
   "outputs": [
    {
     "name": "stderr",
     "output_type": "stream",
     "text": [
      "2025-04-04 13:23:17.822641: E external/local_xla/xla/stream_executor/cuda/cuda_dnn.cc:9261] Unable to register cuDNN factory: Attempting to register factory for plugin cuDNN when one has already been registered\n",
      "2025-04-04 13:23:17.822673: E external/local_xla/xla/stream_executor/cuda/cuda_fft.cc:607] Unable to register cuFFT factory: Attempting to register factory for plugin cuFFT when one has already been registered\n",
      "2025-04-04 13:23:17.823602: E external/local_xla/xla/stream_executor/cuda/cuda_blas.cc:1515] Unable to register cuBLAS factory: Attempting to register factory for plugin cuBLAS when one has already been registered\n",
      "2025-04-04 13:23:17.829071: I tensorflow/core/platform/cpu_feature_guard.cc:182] This TensorFlow binary is optimized to use available CPU instructions in performance-critical operations.\n",
      "To enable the following instructions: AVX2 FMA, in other operations, rebuild TensorFlow with the appropriate compiler flags.\n",
      "2025-04-04 13:23:18.513143: W tensorflow/compiler/tf2tensorrt/utils/py_utils.cc:38] TF-TRT Warning: Could not find TensorRT\n",
      "2025-04-04 13:23:19.845103: I external/local_xla/xla/stream_executor/cuda/cuda_executor.cc:901] successful NUMA node read from SysFS had negative value (-1), but there must be at least one NUMA node, so returning NUMA node zero. See more at https://github.com/torvalds/linux/blob/v6.0/Documentation/ABI/testing/sysfs-bus-pci#L344-L355\n",
      "2025-04-04 13:23:19.883759: W tensorflow/core/common_runtime/gpu/gpu_device.cc:2256] Cannot dlopen some GPU libraries. Please make sure the missing libraries mentioned above are installed properly if you would like to use GPU. Follow the guide at https://www.tensorflow.org/install/gpu for how to download and setup the required libraries for your platform.\n",
      "Skipping registering GPU devices...\n"
     ]
    }
   ],
   "source": [
    "from tensorflow import keras\n",
    "\n",
    "inception_model = keras.models.load_model(\"inception_model.keras\")"
   ]
  },
  {
   "cell_type": "code",
   "execution_count": null,
   "metadata": {
    "id": "uBiCb6xotgwZ",
    "outputId": "dc82e553-6ace-4a87-a2c8-dbd09242dcb1"
   },
   "outputs": [
    {
     "name": "stderr",
     "output_type": "stream",
     "text": [
      "/home/aubct/.local/lib/python3.10/site-packages/tqdm/auto.py:21: TqdmWarning: IProgress not found. Please update jupyter and ipywidgets. See https://ipywidgets.readthedocs.io/en/stable/user_install.html\n",
      "  from .autonotebook import tqdm as notebook_tqdm\n",
      "/home/aubct/.local/lib/python3.10/site-packages/transformers/models/vit/feature_extraction_vit.py:28: FutureWarning: The class ViTFeatureExtractor is deprecated and will be removed in version 5 of Transformers. Please use ViTImageProcessor instead.\n",
      "  warnings.warn(\n"
     ]
    }
   ],
   "source": [
    "from transformers import ViTModel, ViTFeatureExtractor\n",
    "\n",
    "vit_model = ViTModel.from_pretrained(\"vit_model\")\n",
    "feature_extractor = ViTFeatureExtractor.from_pretrained(\"feature_extractor\")"
   ]
  },
  {
   "cell_type": "code",
   "execution_count": null,
   "metadata": {
    "id": "zeruDRU9tgwb"
   },
   "outputs": [],
   "source": [
    "from tensorflow import keras\n",
    "\n",
    "classifier = keras.models.load_model(\"classifier.keras\")"
   ]
  },
  {
   "cell_type": "code",
   "execution_count": null,
   "metadata": {
    "id": "IzWoWI1Ctgwc"
   },
   "outputs": [],
   "source": [
    "import joblib\n",
    "\n",
    "label_encoder = joblib.load(\"label_encoder.pkl\")"
   ]
  },
  {
   "cell_type": "code",
   "execution_count": null,
   "metadata": {
    "id": "Jg05YPS1tgwd"
   },
   "outputs": [],
   "source": [
    "import cv2\n",
    "import numpy as np\n",
    "import torch\n",
    "\n",
    "def preprocess_image(image_path, size=(299, 299)):\n",
    "    img = cv2.imread(image_path)\n",
    "    img_resized = cv2.resize(img, size)\n",
    "    img_denoised = cv2.bilateralFilter(img_resized, d=11, sigmaColor=75, sigmaSpace=60)\n",
    "    img_gray = cv2.cvtColor(img_denoised, cv2.COLOR_BGR2GRAY)\n",
    "\n",
    "    clahe = cv2.createCLAHE(clipLimit=2.0, tileGridSize=(8, 8))\n",
    "    img_clahe = clahe.apply(img_gray)\n",
    "\n",
    "    edges = cv2.Canny(img_clahe, 100, 200)\n",
    "    img_combined = cv2.addWeighted(img_clahe, 0.7, edges, 0.3, 0)\n",
    "\n",
    "    img_rgb = np.stack([img_combined] * 3, axis=-1)\n",
    "    img_rgb = img_rgb.astype(np.float32) / 255.0\n",
    "    return np.expand_dims(img_rgb, axis=0)\n",
    "\n",
    "def extract_inception_features(img):\n",
    "    return inception_model.predict(img)\n",
    "\n",
    "def extract_vit_features(img):\n",
    "    inputs = feature_extractor(img, return_tensors=\"pt\")\n",
    "    with torch.no_grad():\n",
    "        outputs = vit_model(**inputs)\n",
    "    return outputs.last_hidden_state[:, 0, :].cpu().numpy()\n",
    "\n",
    "def predict_new_image(image_path):\n",
    "    img = preprocess_image(image_path)\n",
    "\n",
    "    inception_features = extract_inception_features(img)\n",
    "    vit_features = extract_vit_features(img)\n",
    "\n",
    "    w_inception, w_vit = 0.7, 0.3\n",
    "    fused_features = np.concatenate([w_inception * inception_features, w_vit * vit_features], axis=1)\n",
    "\n",
    "    prediction = classifier.predict(fused_features)\n",
    "    print(\"Prediction probs:\", prediction)\n",
    "    predicted_class = np.argmax(prediction)\n",
    "\n",
    "    predicted_label = label_encoder.inverse_transform([predicted_class])[0]\n",
    "    return predicted_label\n"
   ]
  },
  {
   "cell_type": "code",
   "execution_count": null,
   "metadata": {
    "id": "GKTvxRG6tgwe",
    "outputId": "1f72c484-5f32-433f-e9e7-11caa3f27519"
   },
   "outputs": [
    {
     "name": "stdout",
     "output_type": "stream",
     "text": [
      "1/1 [==============================] - 0s 94ms/step\n",
      "1/1 [==============================] - 0s 12ms/step\n",
      "Prediction probs: [[9.7302771e-01 7.6339693e-06 2.4770367e-05 4.8421123e-05 1.2632051e-02\n",
      "  2.0050541e-03 4.6770197e-07 2.9264067e-03 6.9793041e-06 9.3204109e-03]]\n",
      "Predicted Disease: bacterial_leaf_blight\n"
     ]
    }
   ],
   "source": [
    "image_path1 = \"/home/aubct/Downloads/archive(1)/RiceLeafsDisease/train/bacterial_leaf_blight/bacterial_leaf_blight (16).JPG\"\n",
    "\n",
    "predicted_disease = predict_new_image(image_path1)\n",
    "print(f\"Predicted Disease: {predicted_disease}\")"
   ]
  },
  {
   "cell_type": "code",
   "execution_count": null,
   "metadata": {
    "id": "R9szXYUWtgwg",
    "outputId": "efae6d70-3494-4afc-f359-c221c1cffd35"
   },
   "outputs": [
    {
     "name": "stdout",
     "output_type": "stream",
     "text": [
      "1/1 [==============================] - 0s 95ms/step\n",
      "1/1 [==============================] - 0s 13ms/step\n",
      "Predicted Disease: brown_spot\n"
     ]
    }
   ],
   "source": [
    "image_path2 = \"/home/aubct/Downloads/archive(1)/RiceLeafsDisease/train/brown_spot/brown_spot (115).jpg\"\n",
    "\n",
    "predicted_disease = predict_new_image(image_path2)\n",
    "print(f\"Predicted Disease: {predicted_disease}\")"
   ]
  },
  {
   "cell_type": "code",
   "execution_count": null,
   "metadata": {
    "id": "SEITjkhMtgwh",
    "outputId": "4d7633c1-b287-42fc-865e-fdb9301585f7"
   },
   "outputs": [
    {
     "name": "stdout",
     "output_type": "stream",
     "text": [
      "1/1 [==============================] - 0s 93ms/step\n",
      "1/1 [==============================] - 0s 13ms/step\n",
      "Predicted Disease: healthy\n"
     ]
    }
   ],
   "source": [
    "image_path3 = \"/home/aubct/Downloads/archive(1)/RiceLeafsDisease/train/healthy/healthy (233).jpg\"\n",
    "\n",
    "predicted_disease = predict_new_image(image_path3)\n",
    "print(f\"Predicted Disease: {predicted_disease}\")"
   ]
  },
  {
   "cell_type": "code",
   "execution_count": null,
   "metadata": {
    "id": "n1O0CTtttgwi",
    "outputId": "fced9b5d-7f25-4f95-9114-4fe85eef6189"
   },
   "outputs": [
    {
     "name": "stdout",
     "output_type": "stream",
     "text": [
      "1/1 [==============================] - 0s 95ms/step\n",
      "1/1 [==============================] - 0s 12ms/step\n",
      "Predicted Disease: leaf_blast\n"
     ]
    }
   ],
   "source": [
    "image_path4 = \"/home/aubct/Downloads/archive(1)/RiceLeafsDisease/train/leaf_blast/leaf_blast (54).jpg\"\n",
    "\n",
    "predicted_disease = predict_new_image(image_path4)\n",
    "print(f\"Predicted Disease: {predicted_disease}\")"
   ]
  },
  {
   "cell_type": "code",
   "execution_count": null,
   "metadata": {
    "id": "hI6zowYltgwj",
    "outputId": "cadfafb0-7ef8-495b-8134-a4adbc9cd002"
   },
   "outputs": [
    {
     "name": "stdout",
     "output_type": "stream",
     "text": [
      "1/1 [==============================] - 0s 98ms/step\n",
      "1/1 [==============================] - 0s 13ms/step\n",
      "Predicted Disease: leaf_scald\n"
     ]
    }
   ],
   "source": [
    "image_path5 = \"/home/aubct/Downloads/archive(1)/RiceLeafsDisease/train/leaf_scald/leaf_scald (17).jpg\"\n",
    "\n",
    "predicted_disease = predict_new_image(image_path5)\n",
    "print(f\"Predicted Disease: {predicted_disease}\")"
   ]
  },
  {
   "cell_type": "code",
   "execution_count": null,
   "metadata": {
    "id": "MR41hgxqtgwj",
    "outputId": "444515ca-da3d-4de7-a42b-7d34ba355a9c"
   },
   "outputs": [
    {
     "name": "stdout",
     "output_type": "stream",
     "text": [
      "1/1 [==============================] - 0s 93ms/step\n",
      "1/1 [==============================] - 0s 13ms/step\n",
      "Predicted Disease: narrow_brown_spot\n"
     ]
    }
   ],
   "source": [
    "image_path6 = \"/home/aubct/Downloads/archive(1)/RiceLeafsDisease/train/narrow_brown_spot/narrow_brown (5).jpg\"\n",
    "\n",
    "predicted_disease = predict_new_image(image_path6)\n",
    "print(f\"Predicted Disease: {predicted_disease}\")"
   ]
  },
  {
   "cell_type": "code",
   "execution_count": null,
   "metadata": {
    "id": "bP-B5GvFtgwk",
    "outputId": "b2322cf4-be61-4621-e6ee-708845453c57"
   },
   "outputs": [
    {
     "name": "stdout",
     "output_type": "stream",
     "text": [
      "1/1 [==============================] - 0s 92ms/step\n",
      "1/1 [==============================] - 0s 13ms/step\n",
      "Predicted Disease: rice_hispa\n"
     ]
    }
   ],
   "source": [
    "image_path7 = \"/home/aubct/Downloads/archive/Rice_Leaf_Diease/Rice_Leaf_Diease/test/Rice Hispa/Rice_Hispa (21).jpg\"\n",
    "\n",
    "predicted_disease = predict_new_image(image_path7)\n",
    "print(f\"Predicted Disease: {predicted_disease}\")"
   ]
  },
  {
   "cell_type": "code",
   "execution_count": null,
   "metadata": {
    "id": "NVHGG9m-tgwk",
    "outputId": "2acfab72-73b7-422c-bd11-b6ee46d50f6e"
   },
   "outputs": [
    {
     "name": "stdout",
     "output_type": "stream",
     "text": [
      "1/1 [==============================] - 0s 91ms/step\n",
      "1/1 [==============================] - 0s 13ms/step\n",
      "Predicted Disease: sheath_blight\n"
     ]
    }
   ],
   "source": [
    "image_path8 = \"/home/aubct/Downloads/archive/Rice_Leaf_Diease/Rice_Leaf_Diease/test/Sheath Blight/IMG_20231014_171742.jpg\"\n",
    "\n",
    "predicted_disease = predict_new_image(image_path8)\n",
    "print(f\"Predicted Disease: {predicted_disease}\")"
   ]
  },
  {
   "cell_type": "code",
   "execution_count": null,
   "metadata": {
    "id": "pXlPLT01tgwk",
    "outputId": "3598d257-8579-4ea3-bdb7-050108ae1f9e"
   },
   "outputs": [
    {
     "name": "stdout",
     "output_type": "stream",
     "text": [
      "1/1 [==============================] - 0s 94ms/step\n",
      "1/1 [==============================] - 0s 13ms/step\n",
      "Predicted Disease: tungro\n"
     ]
    }
   ],
   "source": [
    "image_path9 = \"/home/aubct/Downloads/archive/Rice_Leaf_Diease/Rice_Leaf_Diease/test/Tungro/IMG_0897.jpg\"\n",
    "\n",
    "predicted_disease = predict_new_image(image_path9)\n",
    "print(f\"Predicted Disease: {predicted_disease}\")"
   ]
  },
  {
   "cell_type": "code",
   "execution_count": null,
   "metadata": {
    "id": "S1zkUWtotgwl",
    "outputId": "daaf8d1a-01a6-4895-eafa-195570ebf55d"
   },
   "outputs": [
    {
     "name": "stdout",
     "output_type": "stream",
     "text": [
      "1/1 [==============================] - 0s 91ms/step\n",
      "1/1 [==============================] - 0s 13ms/step\n",
      "Predicted Disease: neck_blast\n"
     ]
    }
   ],
   "source": [
    "image_path10 = \"/home/aubct/Downloads/archive/Rice_Leaf_Diease/Rice_Leaf_Diease/test/Neck_Blast/IMG20201109210551_00.jpg\"\n",
    "\n",
    "predicted_disease = predict_new_image(image_path10)\n",
    "print(f\"Predicted Disease: {predicted_disease}\")"
   ]
  },
  {
   "cell_type": "code",
   "execution_count": null,
   "metadata": {
    "id": "vF4ZZtyitgwl"
   },
   "outputs": [],
   "source": []
  }
 ],
 "metadata": {
  "colab": {
   "provenance": []
  },
  "kernelspec": {
   "display_name": "Python 3",
   "language": "python",
   "name": "python3"
  },
  "language_info": {
   "codemirror_mode": {
    "name": "ipython",
    "version": 3
   },
   "file_extension": ".py",
   "mimetype": "text/x-python",
   "name": "python",
   "nbconvert_exporter": "python",
   "pygments_lexer": "ipython3",
   "version": "3.10.10"
  }
 },
 "nbformat": 4,
 "nbformat_minor": 0
}
