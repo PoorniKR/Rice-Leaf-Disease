{
 "cells": [
  {
   "cell_type": "code",
   "execution_count": null,
   "metadata": {
    "id": "ULIAvOXlsQ8E",
    "outputId": "019d8615-ad49-487e-d025-de61f921def5"
   },
   "outputs": [
    {
     "name": "stdout",
     "output_type": "stream",
     "text": [
      "Extracted fused features loaded from HDF5!\n"
     ]
    }
   ],
   "source": [
    "import h5py\n",
    "\n",
    "with h5py.File(\"fused_features.h5\", \"r\") as f:\n",
    "    X_train_fused = f[\"X_train\"][:]\n",
    "    X_val_fused = f[\"X_val\"][:]\n",
    "    X_test_fused = f[\"X_test\"][:]\n",
    "\n",
    "print(\"Extracted fused features loaded from HDF5!\")"
   ]
  },
  {
   "cell_type": "code",
   "execution_count": null,
   "metadata": {
    "id": "H1edDcZ0sQ8H",
    "outputId": "6e4fee21-8e85-4f98-c9e8-2870e30b964f"
   },
   "outputs": [
    {
     "name": "stdout",
     "output_type": "stream",
     "text": [
      "Loaded Encoded Labels: [1 1 1 ... 3 3 3]\n",
      "Class Names: ['bacterial_leaf_blight' 'brown_spot' 'healthy' 'leaf_blast' 'leaf_scald'\n",
      " 'narrow_brown_spot' 'neck_blast' 'rice_hispa' 'sheath_blight' 'tungro']\n"
     ]
    }
   ],
   "source": [
    "import numpy as np\n",
    "with h5py.File('labels.h5', 'r') as f:\n",
    "    y_encoded = np.array(f['y_encoded'])\n",
    "    class_names = np.array(f['classes']).astype(str)\n",
    "\n",
    "print(\"Loaded Encoded Labels:\", y_encoded)\n",
    "print(\"Class Names:\", class_names)\n"
   ]
  },
  {
   "cell_type": "code",
   "execution_count": null,
   "metadata": {
    "id": "cMudzmr3sQ8I",
    "outputId": "5707026d-d3ee-467f-a684-36a9c88193c6"
   },
   "outputs": [
    {
     "name": "stdout",
     "output_type": "stream",
     "text": [
      "Labels loaded successfully from HDF5!\n"
     ]
    }
   ],
   "source": [
    "with h5py.File(\"labels.h5\", \"r\") as f:\n",
    "    y_train = f[\"y_train\"][:]\n",
    "    y_val = f[\"y_val\"][:]\n",
    "    y_test = f[\"y_test\"][:]\n",
    "\n",
    "print(\"Labels loaded successfully from HDF5!\")\n"
   ]
  },
  {
   "cell_type": "code",
   "execution_count": null,
   "metadata": {
    "id": "LX3V9kocsQ8J",
    "outputId": "805f1e9e-5695-40af-ca1f-437e893acd52"
   },
   "outputs": [
    {
     "name": "stderr",
     "output_type": "stream",
     "text": [
      "2025-04-01 16:23:19.592014: E external/local_xla/xla/stream_executor/cuda/cuda_dnn.cc:9261] Unable to register cuDNN factory: Attempting to register factory for plugin cuDNN when one has already been registered\n",
      "2025-04-01 16:23:19.592040: E external/local_xla/xla/stream_executor/cuda/cuda_fft.cc:607] Unable to register cuFFT factory: Attempting to register factory for plugin cuFFT when one has already been registered\n",
      "2025-04-01 16:23:19.592987: E external/local_xla/xla/stream_executor/cuda/cuda_blas.cc:1515] Unable to register cuBLAS factory: Attempting to register factory for plugin cuBLAS when one has already been registered\n",
      "2025-04-01 16:23:19.614634: I tensorflow/core/platform/cpu_feature_guard.cc:182] This TensorFlow binary is optimized to use available CPU instructions in performance-critical operations.\n",
      "To enable the following instructions: AVX2 FMA, in other operations, rebuild TensorFlow with the appropriate compiler flags.\n",
      "2025-04-01 16:23:20.375114: W tensorflow/compiler/tf2tensorrt/utils/py_utils.cc:38] TF-TRT Warning: Could not find TensorRT\n"
     ]
    },
    {
     "name": "stdout",
     "output_type": "stream",
     "text": [
      "Model: \"sequential\"\n",
      "_________________________________________________________________\n",
      " Layer (type)                Output Shape              Param #   \n",
      "=================================================================\n",
      " dense (Dense)               (None, 1024)              1311744   \n",
      "                                                                 \n",
      " batch_normalization (Batch  (None, 1024)              4096      \n",
      " Normalization)                                                  \n",
      "                                                                 \n",
      " dropout (Dropout)           (None, 1024)              0         \n",
      "                                                                 \n",
      " dense_1 (Dense)             (None, 512)               524800    \n",
      "                                                                 \n",
      " batch_normalization_1 (Bat  (None, 512)               2048      \n",
      " chNormalization)                                                \n",
      "                                                                 \n",
      " dropout_1 (Dropout)         (None, 512)               0         \n",
      "                                                                 \n",
      " dense_2 (Dense)             (None, 256)               131328    \n",
      "                                                                 \n",
      " batch_normalization_2 (Bat  (None, 256)               1024      \n",
      " chNormalization)                                                \n",
      "                                                                 \n",
      " dropout_2 (Dropout)         (None, 256)               0         \n",
      "                                                                 \n",
      " dense_3 (Dense)             (None, 10)                2570      \n",
      "                                                                 \n",
      "=================================================================\n",
      "Total params: 1977610 (7.54 MB)\n",
      "Trainable params: 1974026 (7.53 MB)\n",
      "Non-trainable params: 3584 (14.00 KB)\n",
      "_________________________________________________________________\n"
     ]
    },
    {
     "name": "stderr",
     "output_type": "stream",
     "text": [
      "2025-04-01 16:23:21.072825: I external/local_xla/xla/stream_executor/cuda/cuda_executor.cc:901] successful NUMA node read from SysFS had negative value (-1), but there must be at least one NUMA node, so returning NUMA node zero. See more at https://github.com/torvalds/linux/blob/v6.0/Documentation/ABI/testing/sysfs-bus-pci#L344-L355\n",
      "2025-04-01 16:23:21.110266: W tensorflow/core/common_runtime/gpu/gpu_device.cc:2256] Cannot dlopen some GPU libraries. Please make sure the missing libraries mentioned above are installed properly if you would like to use GPU. Follow the guide at https://www.tensorflow.org/install/gpu for how to download and setup the required libraries for your platform.\n",
      "Skipping registering GPU devices...\n"
     ]
    }
   ],
   "source": [
    "from tensorflow.keras.layers import Dense, Dropout, BatchNormalization\n",
    "from tensorflow.keras.models import Sequential\n",
    "from tensorflow.keras.optimizers import Adam\n",
    "from tensorflow.keras.callbacks import EarlyStopping, ReduceLROnPlateau\n",
    "import numpy as np\n",
    "\n",
    "num_classes = len(np.unique(y_encoded))\n",
    "\n",
    "classifier = Sequential([\n",
    "    Dense(1024, activation='relu', input_shape=(X_train_fused.shape[1],)),\n",
    "    BatchNormalization(),\n",
    "    Dropout(0.4),\n",
    "\n",
    "    Dense(512, activation='relu'),\n",
    "    BatchNormalization(),\n",
    "    Dropout(0.4),\n",
    "\n",
    "    Dense(256, activation='relu'),\n",
    "    BatchNormalization(),\n",
    "    Dropout(0.3),\n",
    "\n",
    "    Dense(num_classes, activation='softmax')\n",
    "])\n",
    "\n",
    "classifier.compile(optimizer=Adam(learning_rate=0.001),\n",
    "                   loss='sparse_categorical_crossentropy',\n",
    "                   metrics=['accuracy'])\n",
    "\n",
    "classifier.summary()"
   ]
  },
  {
   "cell_type": "code",
   "execution_count": null,
   "metadata": {
    "id": "2Euc1TSOsQ8K"
   },
   "outputs": [],
   "source": [
    "early_stopping = EarlyStopping(monitor=\"val_loss\", patience=7, restore_best_weights=True, verbose=1)\n",
    "reduce_lr = ReduceLROnPlateau(monitor=\"val_loss\", factor=0.5, patience=3, verbose=1)\n",
    "\n",
    "callbacks = [early_stopping, reduce_lr]"
   ]
  },
  {
   "cell_type": "code",
   "execution_count": null,
   "metadata": {
    "id": "lNjhjgMssQ8L",
    "outputId": "aa032e78-c9fe-4392-bde3-ca2113a8268c"
   },
   "outputs": [
    {
     "name": "stdout",
     "output_type": "stream",
     "text": [
      "Epoch 1/100\n",
      "376/376 [==============================] - 4s 11ms/step - loss: 0.1294 - accuracy: 0.9552 - val_loss: 0.2288 - val_accuracy: 0.9268 - lr: 4.8828e-07\n",
      "Epoch 2/100\n",
      "376/376 [==============================] - 4s 11ms/step - loss: 0.1282 - accuracy: 0.9541 - val_loss: 0.2288 - val_accuracy: 0.9261 - lr: 4.8828e-07\n",
      "Epoch 3/100\n",
      "376/376 [==============================] - 4s 11ms/step - loss: 0.1293 - accuracy: 0.9535 - val_loss: 0.2292 - val_accuracy: 0.9254 - lr: 4.8828e-07\n",
      "Epoch 4/100\n",
      "376/376 [==============================] - ETA: 0s - loss: 0.1368 - accuracy: 0.9522\n",
      "Epoch 4: ReduceLROnPlateau reducing learning rate to 2.4414063659605745e-07.\n",
      "376/376 [==============================] - 4s 11ms/step - loss: 0.1368 - accuracy: 0.9522 - val_loss: 0.2300 - val_accuracy: 0.9261 - lr: 4.8828e-07\n",
      "Epoch 5/100\n",
      "376/376 [==============================] - 4s 11ms/step - loss: 0.1305 - accuracy: 0.9547 - val_loss: 0.2290 - val_accuracy: 0.9261 - lr: 2.4414e-07\n",
      "Epoch 6/100\n",
      "376/376 [==============================] - 4s 11ms/step - loss: 0.1322 - accuracy: 0.9529 - val_loss: 0.2288 - val_accuracy: 0.9268 - lr: 2.4414e-07\n",
      "Epoch 7/100\n",
      "375/376 [============================>.] - ETA: 0s - loss: 0.1337 - accuracy: 0.9533\n",
      "Epoch 7: ReduceLROnPlateau reducing learning rate to 1.2207031829802872e-07.\n",
      "376/376 [==============================] - 4s 11ms/step - loss: 0.1336 - accuracy: 0.9533 - val_loss: 0.2299 - val_accuracy: 0.9274 - lr: 2.4414e-07\n",
      "Epoch 8/100\n",
      "376/376 [==============================] - 4s 11ms/step - loss: 0.1351 - accuracy: 0.9505 - val_loss: 0.2289 - val_accuracy: 0.9274 - lr: 1.2207e-07\n",
      "Epoch 9/100\n",
      "375/376 [============================>.] - ETA: 0s - loss: 0.1337 - accuracy: 0.9528Restoring model weights from the end of the best epoch: 2.\n",
      "376/376 [==============================] - 4s 11ms/step - loss: 0.1335 - accuracy: 0.9528 - val_loss: 0.2295 - val_accuracy: 0.9268 - lr: 1.2207e-07\n",
      "Epoch 9: early stopping\n"
     ]
    }
   ],
   "source": [
    "history = classifier.fit(\n",
    "    X_train_fused, y_train,\n",
    "    validation_data=(X_val_fused, y_val),\n",
    "    epochs=100,\n",
    "    batch_size=32,\n",
    "    callbacks=callbacks\n",
    ")"
   ]
  },
  {
   "cell_type": "code",
   "execution_count": null,
   "metadata": {
    "id": "qPjKtJDzsQ8M",
    "outputId": "f273553e-1750-4f62-a493-3bbb5804e5a9"
   },
   "outputs": [
    {
     "name": "stdout",
     "output_type": "stream",
     "text": [
      "47/47 [==============================] - 0s 2ms/step - loss: 0.1792 - accuracy: 0.9441\n",
      "Test Accuracy: 94.41%\n"
     ]
    }
   ],
   "source": [
    "test_loss, test_acc = classifier.evaluate(X_test_fused, y_test)\n",
    "print(f\"Test Accuracy: {test_acc * 100:.2f}%\")"
   ]
  },
  {
   "cell_type": "code",
   "execution_count": null,
   "metadata": {
    "id": "K9z6U3WCsQ8O",
    "outputId": "2ffdcbfc-3231-46a1-c9d3-483f9fcb1683"
   },
   "outputs": [
    {
     "name": "stdout",
     "output_type": "stream",
     "text": [
      "47/47 [==============================] - 0s 2ms/step\n",
      "[[125   0   0   0   0   0   0   0   0   1]\n",
      " [  0 132   1   4   0   1   0   1   0   0]\n",
      " [  0   3 151   4   0   0   0   3   0   1]\n",
      " [  0   5   4 166   1   1   0   0   2   2]\n",
      " [  0   0   0   3 157   3   0   2   5   0]\n",
      " [  0   0   2   9   2 114   0   3   3   0]\n",
      " [  0   0   0   0   0   0  92   0   0   0]\n",
      " [  0   0   1   0   2   1   0 144   1   0]\n",
      " [  0   1   1   2   2   0   0   1 155   2]\n",
      " [  0   1   0   1   0   0   0   1   1 183]]\n"
     ]
    },
    {
     "data": {
      "image/png": "[encoded data removed]",
      "text/plain": [
       "<Figure size 500x500 with 2 Axes>"
      ]
     },
     "metadata": {},
     "output_type": "display_data"
    }
   ],
   "source": [
    "from sklearn.metrics import confusion_matrix\n",
    "import seaborn as sns\n",
    "import matplotlib.pyplot as plt\n",
    "\n",
    "y_pred = classifier.predict(X_test_fused)\n",
    "y_pred_classes = np.argmax(y_pred, axis=1)\n",
    "\n",
    "cm = confusion_matrix(y_test, y_pred_classes)\n",
    "print(cm)\n",
    "\n",
    "plt.figure(figsize=(5, 5))\n",
    "sns.heatmap(cm, annot=True, fmt='d', cmap='Blues', xticklabels=class_names, yticklabels=class_names)\n",
    "plt.xlabel('Predicted')\n",
    "plt.ylabel('Actual')\n",
    "plt.title('Confusion Matrix')\n",
    "plt.show()"
   ]
  },
  {
   "cell_type": "code",
   "execution_count": null,
   "metadata": {
    "id": "ori_yIlrsQ8P",
    "outputId": "8f49a4b1-1688-46f7-fbaa-5be15dabf1e7"
   },
   "outputs": [
    {
     "name": "stdout",
     "output_type": "stream",
     "text": [
      "              precision    recall  f1-score   support\n",
      "\n",
      "           0       1.00      0.99      1.00       126\n",
      "           1       0.92      0.95      0.94       139\n",
      "           2       0.95      0.93      0.94       162\n",
      "           3       0.88      0.92      0.90       181\n",
      "           4       0.96      0.92      0.94       170\n",
      "           5       0.95      0.86      0.90       133\n",
      "           6       1.00      1.00      1.00        92\n",
      "           7       0.93      0.97      0.95       149\n",
      "           8       0.93      0.95      0.94       164\n",
      "           9       0.97      0.98      0.97       187\n",
      "\n",
      "    accuracy                           0.94      1503\n",
      "   macro avg       0.95      0.95      0.95      1503\n",
      "weighted avg       0.94      0.94      0.94      1503\n",
      "\n"
     ]
    }
   ],
   "source": [
    "from sklearn.metrics import classification_report\n",
    "print(classification_report(y_test, y_pred_classes))\n"
   ]
  },
  {
   "cell_type": "code",
   "execution_count": null,
   "metadata": {
    "id": "DA3HE_KBsQ8R"
   },
   "outputs": [],
   "source": [
    "classifier.save(\"classifier.keras\")"
   ]
  },
  {
   "cell_type": "code",
   "execution_count": null,
   "metadata": {
    "id": "xvwCXouusQ8S",
    "outputId": "15d21c17-c48c-4dc8-a37d-21fd46d35c0c"
   },
   "outputs": [
    {
     "name": "stderr",
     "output_type": "stream",
     "text": [
      "2025-04-05 16:36:48.233406: E external/local_xla/xla/stream_executor/cuda/cuda_dnn.cc:9261] Unable to register cuDNN factory: Attempting to register factory for plugin cuDNN when one has already been registered\n",
      "2025-04-05 16:36:48.233596: E external/local_xla/xla/stream_executor/cuda/cuda_fft.cc:607] Unable to register cuFFT factory: Attempting to register factory for plugin cuFFT when one has already been registered\n",
      "2025-04-05 16:36:48.428941: E external/local_xla/xla/stream_executor/cuda/cuda_blas.cc:1515] Unable to register cuBLAS factory: Attempting to register factory for plugin cuBLAS when one has already been registered\n",
      "2025-04-05 16:36:49.055869: I tensorflow/core/platform/cpu_feature_guard.cc:182] This TensorFlow binary is optimized to use available CPU instructions in performance-critical operations.\n",
      "To enable the following instructions: AVX2 FMA, in other operations, rebuild TensorFlow with the appropriate compiler flags.\n",
      "2025-04-05 16:36:52.503163: W tensorflow/compiler/tf2tensorrt/utils/py_utils.cc:38] TF-TRT Warning: Could not find TensorRT\n",
      "2025-04-05 16:36:59.092606: I external/local_xla/xla/stream_executor/cuda/cuda_executor.cc:901] successful NUMA node read from SysFS had negative value (-1), but there must be at least one NUMA node, so returning NUMA node zero. See more at https://github.com/torvalds/linux/blob/v6.0/Documentation/ABI/testing/sysfs-bus-pci#L344-L355\n",
      "2025-04-05 16:37:00.634626: W tensorflow/core/common_runtime/gpu/gpu_device.cc:2256] Cannot dlopen some GPU libraries. Please make sure the missing libraries mentioned above are installed properly if you would like to use GPU. Follow the guide at https://www.tensorflow.org/install/gpu for how to download and setup the required libraries for your platform.\n",
      "Skipping registering GPU devices...\n"
     ]
    },
    {
     "name": "stdout",
     "output_type": "stream",
     "text": [
      "Model: \"sequential\"\n",
      "_________________________________________________________________\n",
      " Layer (type)                Output Shape              Param #   \n",
      "=================================================================\n",
      " dense (Dense)               (None, 1024)              1311744   \n",
      "                                                                 \n",
      " batch_normalization (Batch  (None, 1024)              4096      \n",
      " Normalization)                                                  \n",
      "                                                                 \n",
      " dropout (Dropout)           (None, 1024)              0         \n",
      "                                                                 \n",
      " dense_1 (Dense)             (None, 512)               524800    \n",
      "                                                                 \n",
      " batch_normalization_1 (Bat  (None, 512)               2048      \n",
      " chNormalization)                                                \n",
      "                                                                 \n",
      " dropout_1 (Dropout)         (None, 512)               0         \n",
      "                                                                 \n",
      " dense_2 (Dense)             (None, 256)               131328    \n",
      "                                                                 \n",
      " batch_normalization_2 (Bat  (None, 256)               1024      \n",
      " chNormalization)                                                \n",
      "                                                                 \n",
      " dropout_2 (Dropout)         (None, 256)               0         \n",
      "                                                                 \n",
      " dense_3 (Dense)             (None, 10)                2570      \n",
      "                                                                 \n",
      "=================================================================\n",
      "Total params: 1977610 (7.54 MB)\n",
      "Trainable params: 1974026 (7.53 MB)\n",
      "Non-trainable params: 3584 (14.00 KB)\n",
      "_________________________________________________________________\n"
     ]
    }
   ],
   "source": [
    "from tensorflow import keras\n",
    "\n",
    "model = keras.models.load_model(\"classifier.keras\")\n",
    "\n",
    "model.summary()\n"
   ]
  },
  {
   "cell_type": "code",
   "execution_count": null,
   "metadata": {
    "id": "9KUMwE3fsQ8S"
   },
   "outputs": [],
   "source": []
  }
 ],
 "metadata": {
  "colab": {
   "provenance": []
  },
  "kernelspec": {
   "display_name": "Python 3",
   "language": "python",
   "name": "python3"
  },
  "language_info": {
   "codemirror_mode": {
    "name": "ipython",
    "version": 3
   },
   "file_extension": ".py",
   "mimetype": "text/x-python",
   "name": "python",
   "nbconvert_exporter": "python",
   "pygments_lexer": "ipython3",
   "version": "3.10.10"
  }
 },
 "nbformat": 4,
 "nbformat_minor": 0
}
