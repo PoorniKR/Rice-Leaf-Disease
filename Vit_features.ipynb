{
 "cells": [
  {
   "cell_type": "code",
   "execution_count": 1,
   "metadata": {},
   "outputs": [
    {
     "name": "stdout",
     "output_type": "stream",
     "text": [
      "Train Set Shape: (12018, 299, 299, 3)\n",
      "Validation Set Shape: (1502, 299, 299, 3)\n",
      "Test Set Shape: (1503, 299, 299, 3)\n"
     ]
    }
   ],
   "source": [
    "import h5py\n",
    "import numpy as np\n",
    "\n",
    "with h5py.File(\"rgb_datasets.h5\", \"r\") as hf:\n",
    "    X_train_rgb = np.array(hf[\"X_train_rgb\"])\n",
    "    X_val_rgb = np.array(hf[\"X_val_rgb\"])\n",
    "    X_test_rgb = np.array(hf[\"X_test_rgb\"])\n",
    "\n",
    "print(f\"Train Set Shape: {X_train_rgb.shape}\")\n",
    "print(f\"Validation Set Shape: {X_val_rgb.shape}\")\n",
    "print(f\"Test Set Shape: {X_test_rgb.shape}\")\n"
   ]
  },
  {
   "cell_type": "code",
   "execution_count": 12,
   "metadata": {},
   "outputs": [],
   "source": [
    "import torch\n",
    "from transformers import ViTModel, ViTFeatureExtractor\n",
    "import numpy as np\n"
   ]
  },
  {
   "cell_type": "code",
   "execution_count": 13,
   "metadata": {},
   "outputs": [],
   "source": [
    "vit_model = ViTModel.from_pretrained(\"google/vit-base-patch16-224-in21k\")"
   ]
  },
  {
   "cell_type": "code",
   "execution_count": 14,
   "metadata": {},
   "outputs": [
    {
     "name": "stderr",
     "output_type": "stream",
     "text": [
      "/home/aubct/.local/lib/python3.10/site-packages/transformers/models/vit/feature_extraction_vit.py:28: FutureWarning: The class ViTFeatureExtractor is deprecated and will be removed in version 5 of Transformers. Please use ViTImageProcessor instead.\n",
      "  warnings.warn(\n"
     ]
    }
   ],
   "source": [
    "feature_extractor = ViTFeatureExtractor.from_pretrained(\"google/vit-base-patch16-224-in21k\")"
   ]
  },
  {
   "cell_type": "code",
   "execution_count": 15,
   "metadata": {},
   "outputs": [],
   "source": [
    "vit_model.save_pretrained(\"vit_model\")"
   ]
  },
  {
   "cell_type": "code",
   "execution_count": 17,
   "metadata": {},
   "outputs": [
    {
     "data": {
      "text/plain": [
       "['feature_extractor/preprocessor_config.json']"
      ]
     },
     "execution_count": 17,
     "metadata": {},
     "output_type": "execute_result"
    }
   ],
   "source": [
    "feature_extractor.save_pretrained(\"feature_extractor\")"
   ]
  },
  {
   "cell_type": "code",
   "execution_count": 16,
   "metadata": {},
   "outputs": [
    {
     "data": {
      "text/plain": [
       "ViTModel(\n",
       "  (embeddings): ViTEmbeddings(\n",
       "    (patch_embeddings): ViTPatchEmbeddings(\n",
       "      (projection): Conv2d(3, 768, kernel_size=(16, 16), stride=(16, 16))\n",
       "    )\n",
       "    (dropout): Dropout(p=0.0, inplace=False)\n",
       "  )\n",
       "  (encoder): ViTEncoder(\n",
       "    (layer): ModuleList(\n",
       "      (0-11): 12 x ViTLayer(\n",
       "        (attention): ViTAttention(\n",
       "          (attention): ViTSelfAttention(\n",
       "            (query): Linear(in_features=768, out_features=768, bias=True)\n",
       "            (key): Linear(in_features=768, out_features=768, bias=True)\n",
       "            (value): Linear(in_features=768, out_features=768, bias=True)\n",
       "          )\n",
       "          (output): ViTSelfOutput(\n",
       "            (dense): Linear(in_features=768, out_features=768, bias=True)\n",
       "            (dropout): Dropout(p=0.0, inplace=False)\n",
       "          )\n",
       "        )\n",
       "        (intermediate): ViTIntermediate(\n",
       "          (dense): Linear(in_features=768, out_features=3072, bias=True)\n",
       "          (intermediate_act_fn): GELUActivation()\n",
       "        )\n",
       "        (output): ViTOutput(\n",
       "          (dense): Linear(in_features=3072, out_features=768, bias=True)\n",
       "          (dropout): Dropout(p=0.0, inplace=False)\n",
       "        )\n",
       "        (layernorm_before): LayerNorm((768,), eps=1e-12, elementwise_affine=True)\n",
       "        (layernorm_after): LayerNorm((768,), eps=1e-12, elementwise_affine=True)\n",
       "      )\n",
       "    )\n",
       "  )\n",
       "  (layernorm): LayerNorm((768,), eps=1e-12, elementwise_affine=True)\n",
       "  (pooler): ViTPooler(\n",
       "    (dense): Linear(in_features=768, out_features=768, bias=True)\n",
       "    (activation): Tanh()\n",
       "  )\n",
       ")"
      ]
     },
     "execution_count": 16,
     "metadata": {},
     "output_type": "execute_result"
    }
   ],
   "source": [
    "vit_model.eval()"
   ]
  },
  {
   "cell_type": "code",
   "execution_count": 5,
   "metadata": {},
   "outputs": [],
   "source": [
    "def extract_vit_features(vit_model, feature_extractor, images, batch_size=32):\n",
    "    vit_features = []\n",
    "    device = torch.device(\"cuda\" if torch.cuda.is_available() else \"cpu\")\n",
    "    vit_model.to(device)\n",
    "\n",
    "    for i in range(0, len(images), batch_size):\n",
    "        batch_images = images[i:i+batch_size]  \n",
    "        inputs = feature_extractor(batch_images, return_tensors=\"pt\").to(device)\n",
    "\n",
    "        with torch.no_grad():\n",
    "            outputs = vit_model(**inputs)\n",
    "\n",
    "        vit_features.append(outputs.last_hidden_state[:, 0, :].cpu().numpy())\n",
    "\n",
    "    return np.concatenate(vit_features, axis=0)"
   ]
  },
  {
   "cell_type": "code",
   "execution_count": 6,
   "metadata": {},
   "outputs": [
    {
     "name": "stderr",
     "output_type": "stream",
     "text": [
      "It looks like you are trying to rescale already rescaled images. If the input images have pixel values between 0 and 1, set `do_rescale=False` to avoid rescaling them again.\n"
     ]
    }
   ],
   "source": [
    "X_train_vit = extract_vit_features(vit_model, feature_extractor, X_train_rgb)\n",
    "X_val_vit = extract_vit_features(vit_model, feature_extractor, X_val_rgb)\n",
    "X_test_vit = extract_vit_features(vit_model, feature_extractor, X_test_rgb)"
   ]
  },
  {
   "cell_type": "code",
   "execution_count": 7,
   "metadata": {},
   "outputs": [
    {
     "name": "stdout",
     "output_type": "stream",
     "text": [
      "Features saved in HDF5 format!\n"
     ]
    }
   ],
   "source": [
    "import h5py\n",
    "\n",
    "with h5py.File(\"vit_features.h5\", \"w\") as f:\n",
    "    f.create_dataset(\"X_train\", data=X_train_vit)\n",
    "    f.create_dataset(\"X_val\", data=X_val_vit)\n",
    "    f.create_dataset(\"X_test\", data=X_test_vit)\n",
    "\n",
    "print(\"Features saved in HDF5 format!\")"
   ]
  },
  {
   "cell_type": "code",
   "execution_count": 8,
   "metadata": {},
   "outputs": [
    {
     "name": "stdout",
     "output_type": "stream",
     "text": [
      "Extracted features loaded from HDF5!\n"
     ]
    }
   ],
   "source": [
    "with h5py.File(\"vit_features.h5\", \"r\") as f:\n",
    "    X_train_vit = f[\"X_train\"][:]\n",
    "    X_val_vit = f[\"X_val\"][:]\n",
    "    X_test_vit = f[\"X_test\"][:]\n",
    "\n",
    "print(\"Extracted features loaded from HDF5!\")"
   ]
  },
  {
   "cell_type": "code",
   "execution_count": 9,
   "metadata": {},
   "outputs": [
    {
     "name": "stdout",
     "output_type": "stream",
     "text": [
      "Train Features Shape: (12018, 768)\n",
      "Validation Features Shape: (1502, 768)\n",
      "Test Features Shape: (1503, 768)\n",
      "Feature Data Type: float32\n"
     ]
    }
   ],
   "source": [
    "print(\"Train Features Shape:\", X_train_vit.shape)\n",
    "print(\"Validation Features Shape:\", X_val_vit.shape)\n",
    "print(\"Test Features Shape:\", X_test_vit.shape)\n",
    "\n",
    "print(\"Feature Data Type:\", X_train_vit.dtype)"
   ]
  },
  {
   "cell_type": "code",
   "execution_count": 10,
   "metadata": {},
   "outputs": [
    {
     "name": "stdout",
     "output_type": "stream",
     "text": [
      "First Feature Vector:\n",
      " [ 2.03302190e-01  9.73513499e-02 -2.41526738e-01 -2.58035939e-02\n",
      " -1.16951898e-01  2.39602719e-02  1.22704348e-02  1.07797734e-01\n",
      "  1.39585277e-02 -1.56061813e-01 -2.76799593e-02 -1.28158135e-02\n",
      "  2.55042583e-01  1.58950001e-01 -1.25794932e-01  2.16929108e-01\n",
      "  1.12153344e-01 -2.22920343e-01  2.63182342e-01  8.41117501e-02\n",
      "  2.79361457e-02 -2.10166723e-01 -2.19644621e-01  9.75345150e-02\n",
      "  1.21267792e-02 -1.40221387e-01  1.68928608e-01  8.90708268e-02\n",
      "  2.90527977e-02 -1.18497543e-01 -1.74832001e-01  1.20253220e-01\n",
      "  6.38552383e-02  1.32957876e-01  8.34634353e-04 -8.36434215e-02\n",
      " -8.60268772e-02  1.76591845e-03 -1.36866719e-01 -1.76282972e-01\n",
      " -2.35820144e-01  5.82491308e-02  1.13135964e-01 -3.35343182e-01\n",
      "  3.57673205e-02  5.55226766e-02 -2.37397835e-01 -1.09654576e-01\n",
      " -6.10678568e-02  3.09053827e-02  2.63431631e-02 -1.56902254e-01\n",
      "  1.60262674e-01  6.60254508e-02  6.36551455e-02  5.63114397e-02\n",
      "  1.97907746e-01  5.29245771e-02  7.31034428e-02  1.10486396e-01\n",
      "  4.70429808e-02 -9.84225497e-02 -1.43314332e-01 -3.17465924e-02\n",
      " -6.98186457e-02 -1.86676517e-01 -4.90817428e-03  1.04355522e-01\n",
      " -7.75028989e-02 -1.13334231e-01 -8.66757855e-02 -7.84905478e-02\n",
      "  3.38499527e-03  6.46737665e-02 -1.40736988e-02 -1.86754063e-01\n",
      " -8.88589919e-02 -1.21922314e-01  4.32237089e-02 -1.57524422e-02\n",
      " -1.01328619e-01 -2.10080758e-01  2.02100854e-02 -1.64874624e-02\n",
      "  8.25682133e-02 -1.62126631e-01 -1.29002824e-01 -2.17265651e-01\n",
      "  5.93840182e-02  1.03177033e-01 -1.78212985e-01 -2.96759307e-02\n",
      "  1.07366659e-01  1.19079083e-01 -1.12082548e-01  4.82595153e-02\n",
      " -5.78028411e-02 -1.64985046e-01 -5.32329232e-02 -1.38062805e-01\n",
      "  1.53930224e-02 -1.32871121e-01 -1.31550491e-01  5.36224023e-02\n",
      " -3.04370914e-02  2.90222354e-02  6.04658760e-03 -1.13592885e-01\n",
      "  1.13714062e-01 -4.88008261e-02  2.18872517e-01 -2.01056767e-02\n",
      "  1.25476465e-01  1.76401392e-01  7.75191560e-02  7.88377970e-03\n",
      " -1.45578995e-01  1.51283264e-01 -4.98682968e-02 -3.53119448e-02\n",
      "  1.17326073e-01 -1.94724455e-01  5.11802100e-02 -6.38632625e-02\n",
      "  1.75609708e-01  4.85473052e-02 -1.18857138e-01  1.85007393e-01\n",
      " -9.62327570e-02  9.33051333e-02  2.08976969e-01  5.90920486e-02\n",
      " -2.42351323e-01 -8.38317350e-03 -1.35070339e-01 -4.89685871e-02\n",
      "  2.71942243e-02 -1.78166032e-01 -1.48048595e-01  3.14501412e-02\n",
      " -8.05108175e-02  2.50956025e-02  1.20859176e-01 -6.26928955e-02\n",
      "  8.50651413e-03  1.13666624e-01  1.58081010e-01  1.52520478e-01\n",
      " -7.18418360e-02 -7.01813474e-02  5.05559370e-02 -1.59606878e-02\n",
      " -2.04293374e-02  2.64602691e-01 -5.01673203e-03 -1.00413583e-01\n",
      "  9.22280774e-02  1.28315821e-01  9.40626021e-03 -6.06148988e-02\n",
      " -6.40487149e-02 -1.16542436e-01 -7.09292740e-02 -2.81127058e-02\n",
      " -7.13426918e-02  3.95386182e-02  2.29232237e-02  3.69980074e-02\n",
      "  1.92326352e-01  4.65575196e-02  7.36976787e-02 -3.75318751e-02\n",
      "  1.04898788e-01 -6.85909018e-02  2.52111237e-02 -6.27229884e-02\n",
      "  3.86504680e-02 -3.44776809e-02  2.96671651e-02 -1.38591722e-01\n",
      " -2.63041705e-02  2.36245468e-02 -2.83221930e-01 -2.45336592e-02\n",
      "  9.06144306e-02 -1.96559489e-01  1.46814451e-01 -1.17624402e-01\n",
      "  4.27565463e-02 -1.43369734e-01  1.11733638e-01 -2.35647693e-01\n",
      " -2.71213595e-02  1.31017804e-01  6.21406063e-02 -8.37991014e-02\n",
      "  5.16742431e-02 -3.34974267e-02  1.16160490e-01 -2.23999098e-02\n",
      " -1.01367801e-01 -1.20743565e-01  1.61496565e-01 -5.18602580e-02\n",
      " -2.33298503e-02  1.20406777e-01  6.00550286e-02 -4.66029570e-02\n",
      "  1.50869876e-01 -1.81089446e-03 -4.71230075e-02 -4.56466340e-02\n",
      " -1.05362327e-03  5.97685874e-02  1.60944521e-01 -1.66522101e-01\n",
      "  1.24813691e-02  1.81479722e-01 -1.60366416e-01  1.53768212e-02\n",
      " -1.28039062e-01 -1.32918864e-01 -1.35954544e-01  8.32149535e-02\n",
      " -1.74564093e-01 -3.33639793e-02  8.87455270e-02  1.07966356e-01\n",
      " -6.83416128e-02 -2.51506448e-01  7.30034932e-02  1.01351239e-01\n",
      "  1.28370345e-01  2.31137760e-02 -2.25660324e-01 -2.00476795e-01\n",
      "  7.66065121e-02 -1.71737328e-01  1.87797561e-01  1.61829188e-01\n",
      " -3.09809502e-02 -2.70011984e-02 -3.10621522e-02 -1.39250144e-01\n",
      " -1.96896985e-01  5.29228188e-02  3.57418917e-02 -1.46983385e-01\n",
      " -1.59615412e-01 -7.80484825e-02 -3.11762225e-02  7.85483886e-03\n",
      " -6.40534088e-02 -2.01342497e-02  2.02477239e-02  4.98260967e-02\n",
      " -1.93359014e-02  4.34759520e-02  1.25792369e-01  8.30646828e-02\n",
      " -9.48407277e-02 -8.85531865e-03 -1.17279147e-03 -1.14907414e-01\n",
      "  1.36283012e-02  1.73242111e-02  1.76284567e-01 -7.85627440e-02\n",
      " -4.26719850e-03  4.31386828e-02 -1.08806215e-01  7.56499991e-02\n",
      " -3.87232266e-02  1.10687785e-01 -1.70963123e-01  8.89483541e-02\n",
      " -3.19437683e-01  2.11226895e-01 -1.80832461e-01  2.09775567e-01\n",
      " -5.30509604e-03 -1.71674252e-01  8.51127505e-02 -8.47614929e-02\n",
      " -9.39366147e-02 -4.05718386e-02 -3.45891148e-01 -5.27856909e-02\n",
      "  6.03356883e-02 -1.93623021e-01 -1.35947227e-01  1.07917041e-01\n",
      "  4.16436531e-02 -2.57937670e-01  3.87789756e-02  9.85098034e-02\n",
      "  1.18327238e-01 -6.13496043e-02 -1.61490459e-02  1.89136580e-01\n",
      " -2.77924716e-01 -1.73731074e-01  9.49898809e-02 -1.61736503e-01\n",
      " -1.19542167e-01 -1.31009975e-02 -2.13715479e-01 -1.49517849e-01\n",
      " -4.54128236e-02  1.63202941e-01 -1.69772375e-02 -9.81956273e-02\n",
      " -6.13836497e-02  7.42500722e-02 -1.35416130e-03  3.44893597e-02\n",
      "  1.84096042e-02  2.30319545e-01  2.97451261e-02 -1.24002479e-01\n",
      "  2.40063900e-03 -1.47776841e-03 -1.46944836e-01 -7.45604858e-02\n",
      " -2.42545735e-02  1.46647431e-02  1.31134400e-02 -5.44661172e-02\n",
      " -3.85199040e-02 -5.68886697e-02 -1.85933590e-01 -1.24917984e-01\n",
      " -5.86996041e-02  4.16951962e-02 -1.35024101e-01 -1.19256228e-01\n",
      " -2.03125298e-01  1.21594043e-02  9.95138586e-02  1.48807252e-02\n",
      " -8.91332254e-02 -2.68281139e-02  9.52754468e-02 -7.27750659e-02\n",
      "  1.73470546e-02 -1.99778885e-01 -1.54124931e-01  1.01422422e-01\n",
      "  1.46064207e-01 -6.16658442e-02 -5.70100434e-02 -1.08974485e-03\n",
      " -7.61787593e-02  5.06142490e-02 -1.03939353e-02 -4.31558378e-02\n",
      " -1.22062631e-01  1.23501062e-01 -7.40432367e-02  8.28294605e-02\n",
      "  4.72432142e-03 -1.16874531e-01 -3.50253005e-03 -5.24041243e-02\n",
      " -2.30914220e-01 -7.75384977e-02  7.42624551e-02 -1.58535421e-01\n",
      "  2.68063337e-01  1.94512531e-01 -6.06846064e-02  2.39604726e-01\n",
      "  2.99370270e-02  1.31818429e-01  5.62160835e-02  1.19057231e-01\n",
      " -1.66696206e-01  2.86849710e-04 -1.83491334e-02  7.39526153e-02\n",
      " -1.79386996e-02 -4.71073948e-02  9.24010668e-03  1.90319642e-01\n",
      " -1.44414343e-02  1.28854781e-01  8.21836218e-02  2.41764382e-01\n",
      "  2.38836221e-02 -9.66121070e-03  1.12402692e-01 -1.78649604e-01\n",
      " -1.27110621e-02 -7.99905434e-02 -2.01498806e-01  1.74927562e-01\n",
      " -2.65394479e-01  1.36402935e-01  9.42311659e-02  7.09722042e-02\n",
      " -6.70060590e-02 -1.69941872e-01 -6.50746599e-02 -1.25603765e-01\n",
      " -8.72214232e-03  1.82781853e-02 -7.96460882e-02  6.29241019e-02\n",
      "  2.09091455e-02 -8.58264267e-02 -1.44405784e-02 -8.98935348e-02\n",
      " -2.10045800e-01 -1.59692034e-01 -1.02124065e-01 -7.59910941e-02\n",
      "  6.42131567e-02  9.11716297e-02 -1.18593201e-01  1.68132499e-01\n",
      "  8.16185325e-02  1.48769706e-01 -1.16334781e-01 -3.40048075e-02\n",
      " -1.77277718e-02  1.63568892e-02 -9.34104994e-03 -2.90361226e-01\n",
      "  3.66931334e-02  1.06281042e-01 -3.66322398e-02  1.84231743e-01\n",
      " -8.52332711e-02  9.83602852e-02 -4.53266017e-02  4.66332994e-02\n",
      "  7.22913817e-02 -4.13201340e-02 -3.90452519e-02 -1.07772887e-01\n",
      "  1.09592177e-01 -2.03352511e-01  2.76844879e-03 -8.56457055e-02\n",
      "  1.03881024e-01  1.48150951e-01 -1.17342420e-01 -1.83998376e-01\n",
      "  3.60292271e-02 -1.43049359e-01  1.42925009e-01 -7.28474483e-02\n",
      "  1.83526218e-01 -6.62094206e-02  1.40336193e-02  1.01774439e-01\n",
      " -1.02462061e-01  3.80794182e-02  1.70964226e-01 -1.35902129e-02\n",
      "  4.80680838e-02 -1.96970794e-02 -4.10940312e-02  2.74073537e-02\n",
      " -2.36678630e-01 -2.77430192e-02 -3.92842665e-03  9.39858109e-02\n",
      "  9.00315046e-02 -2.18865797e-01 -6.40188381e-02  1.56521022e-01\n",
      "  1.35852667e-02 -1.91316023e-01  2.89879441e-02 -2.89982688e-02\n",
      " -1.00883111e-01 -2.17364609e-01  8.99236798e-02  2.01262324e-03\n",
      " -1.38417706e-01 -1.08224027e-01  1.08810708e-01  2.14539487e-02\n",
      " -6.45359308e-02  4.90133576e-02 -4.27116789e-02 -1.88978091e-01\n",
      " -6.54390678e-02 -1.46496184e-02  3.91939320e-02  1.03228450e-01\n",
      " -1.28754035e-01  9.94287729e-02 -5.20810820e-02 -1.04581527e-01\n",
      "  3.72299738e-02 -1.14123411e-01 -1.21077344e-01  9.47041065e-02\n",
      "  8.25052038e-02 -1.43172935e-01 -1.03544816e-02  1.27333894e-01\n",
      " -9.37084630e-02 -1.37801915e-01 -2.09357694e-01 -1.39318779e-01\n",
      "  9.27552506e-02 -1.26646787e-01 -1.68008000e-01 -1.26511782e-01\n",
      " -8.76487121e-02  5.18126599e-03  1.13809362e-01  5.92525415e-02\n",
      " -9.95484591e-02  4.74396497e-02 -8.72668922e-02 -6.23632334e-02\n",
      " -1.02565780e-01  1.66082773e-02  2.37084046e-01  2.56408870e-01\n",
      "  1.35861281e-02 -2.71413918e-03  5.56067936e-02 -1.66245177e-01\n",
      "  1.12715960e-01  6.10264614e-02 -2.68585205e-01 -6.76185787e-02\n",
      " -2.65255403e-02  3.23582105e-02 -8.29196796e-02 -7.81899616e-02\n",
      "  1.86389074e-01 -6.31815046e-02 -1.07393131e-01 -1.62738990e-02\n",
      " -3.11029762e-01 -1.14779584e-02 -7.11297095e-02 -7.92373046e-02\n",
      "  2.12540612e-01  5.41830882e-02 -1.56239957e-01  7.22687617e-02\n",
      "  1.13476114e-02 -1.20079156e-03 -3.15696560e-02 -3.74911502e-02\n",
      " -2.31103525e-01 -2.01305225e-01  1.47378072e-01 -1.43221095e-01\n",
      " -1.41320080e-01 -1.00062095e-01 -6.72911704e-02 -9.69669223e-02\n",
      "  1.50943594e-02 -3.88651565e-02  1.20699905e-01  3.98724414e-02\n",
      "  1.10324875e-01 -1.11041516e-01  6.63503781e-02 -9.14298147e-02\n",
      " -1.19960994e-01 -7.96852708e-02 -8.89023840e-02 -1.25285506e-01\n",
      " -1.20706588e-01  1.97779909e-01  2.41285283e-02  3.14910114e-02\n",
      " -4.47944319e-03 -1.37565210e-01  7.09468424e-02 -2.58204430e-01\n",
      " -2.18216509e-01  8.54420736e-02 -1.57303195e-02  4.10742220e-03\n",
      "  1.81559250e-01  7.46908486e-02 -6.41290918e-02 -2.59772432e-03\n",
      "  4.24874835e-02 -1.02868825e-01  1.47042871e-01  8.92527476e-02\n",
      "  1.41948581e-01 -1.32151648e-01  8.66647363e-02 -3.49690169e-02\n",
      "  1.30542800e-01 -1.19252922e-03  5.06022759e-02 -5.54489419e-02\n",
      " -9.79997888e-02  6.04718104e-02  1.02840498e-01 -2.37980112e-02\n",
      "  2.57311352e-02  6.45693839e-02  9.08267051e-02  2.39425097e-02\n",
      " -1.88994810e-01  1.71018928e-01 -7.34854415e-02 -1.18524589e-01\n",
      " -1.21724673e-01 -1.75478294e-01 -2.64923163e-02 -1.69140100e-01\n",
      " -1.08631819e-01 -2.13690642e-02 -9.65769291e-02  4.20606509e-02\n",
      " -6.52515795e-03  1.16993003e-01  7.50589818e-02  6.53895959e-02\n",
      " -9.78744701e-02  1.13243274e-01 -1.09436892e-01  5.20008057e-03\n",
      "  2.18891263e-01  1.22746795e-01  1.49846241e-01 -1.01465642e-01\n",
      " -2.19389006e-01 -7.48020709e-02  3.01954206e-02 -1.61487639e-01\n",
      "  2.21046075e-01  2.49640252e-02 -7.49631748e-02 -8.12485591e-02\n",
      " -6.80264309e-02 -2.42914006e-01  8.46528262e-02 -1.16926217e-02\n",
      "  2.98745576e-02 -4.83218580e-03  9.76208523e-02 -1.44346654e-02\n",
      " -1.52177006e-01 -6.75962567e-02  6.60716090e-03  1.76137105e-01\n",
      " -4.58672792e-02 -3.39701809e-02  1.86534151e-02  1.66989893e-01\n",
      "  1.15106152e-02 -1.16349518e-01  7.52006322e-02 -1.94606021e-01\n",
      "  1.27585724e-01 -1.25431478e-01  1.06537398e-02  6.20526150e-02\n",
      "  3.93319614e-02 -1.50307387e-01 -9.30437073e-03 -8.38948190e-02\n",
      "  6.48900727e-03  5.58636449e-02 -1.99347436e-01 -5.58815338e-02\n",
      " -7.52142668e-02 -2.48563923e-02  1.53326660e-01 -3.29261690e-01\n",
      "  6.86659738e-02 -1.42185286e-01 -6.77433908e-02 -1.29930081e-03\n",
      " -2.58634061e-01 -3.51071395e-02  3.39986503e-01  1.44588664e-01\n",
      " -4.32645939e-02  1.76143870e-02  1.25948176e-01 -5.97618930e-02\n",
      " -9.78742167e-02 -4.74859774e-02 -4.43171188e-02  2.69569717e-02\n",
      "  1.26755103e-01 -2.78294627e-02 -2.39136830e-01 -7.92725291e-03\n",
      "  7.98175260e-02  1.96600370e-02 -1.50950417e-01 -1.45124108e-01\n",
      "  3.43607739e-02 -1.09483957e-01 -2.50978619e-01  6.14984073e-02\n",
      "  1.06770620e-01  3.20013687e-02 -1.26189992e-01 -1.14640653e-01\n",
      " -1.40840709e-02 -2.03267708e-02 -1.27514042e-02  2.07518917e-02\n",
      "  1.12624675e-01 -5.46891876e-02  1.72023192e-01 -1.66293308e-01\n",
      " -2.10433006e-02 -6.07422180e-02  7.15641826e-02  1.36162221e-01\n",
      " -1.19702015e-02 -1.66446925e-03 -1.68422293e-02 -1.97253719e-01\n",
      "  3.77254598e-02  1.53244650e-02 -5.43194599e-02 -1.34042740e-01\n",
      "  6.44236244e-03 -2.55073974e-04 -7.81796314e-03 -4.88374569e-02\n",
      " -1.50027588e-01 -6.79793656e-02  9.39503498e-03 -1.75701585e-02\n",
      " -1.10098394e-03  2.16433890e-02  5.65692298e-02 -1.54583514e-01\n",
      " -1.77595869e-01  8.01185817e-02  3.08118388e-02 -6.09418266e-02\n",
      " -1.98460609e-01  3.65204774e-02  4.48009092e-03 -1.64471313e-01\n",
      "  5.08990251e-02 -1.32444993e-01 -3.71234939e-02 -1.80994391e-01\n",
      " -4.29150723e-02 -4.54821158e-03  1.00245617e-01  3.36553864e-02\n",
      " -1.22340955e-02  5.58881275e-02  8.96642506e-02 -1.67360872e-01\n",
      "  1.58514343e-02  1.05119720e-01 -6.92587197e-02  8.85368697e-03\n",
      "  5.70713244e-02  1.06073935e-02  1.34197604e-02  9.80529487e-02]\n",
      "Min Value: -0.35617915\n",
      "Max Value: 0.34784183\n"
     ]
    }
   ],
   "source": [
    "import numpy as np\n",
    "\n",
    "print(\"First Feature Vector:\\n\", X_train_vit[5])\n",
    "\n",
    "print(\"Min Value:\", np.min(X_train_vit))\n",
    "print(\"Max Value:\", np.max(X_train_vit))\n"
   ]
  },
  {
   "cell_type": "code",
   "execution_count": null,
   "metadata": {},
   "outputs": [
    {
     "data": {
      "image/png": "[encoded data removed]",
      "text/plain": [
       "<Figure size 640x480 with 2 Axes>"
      ]
     },
     "metadata": {},
     "output_type": "display_data"
    }
   ],
   "source": [
    "import numpy as np\n",
    "import seaborn as sns\n",
    "import matplotlib.pyplot as plt\n",
    "\n",
    "reshaped_features = np.expand_dims(X_train_vit[10], axis=0)  \n",
    "sns.heatmap(reshaped_features, cmap=\"coolwarm\")\n",
    "plt.show()\n"
   ]
  },
  {
   "cell_type": "code",
   "execution_count": null,
   "metadata": {},
   "outputs": [],
   "source": []
  }
 ],
 "metadata": {
  "kernelspec": {
   "display_name": "Python 3",
   "language": "python",
   "name": "python3"
  },
  "language_info": {
   "codemirror_mode": {
    "name": "ipython",
    "version": 3
   },
   "file_extension": ".py",
   "mimetype": "text/x-python",
   "name": "python",
   "nbconvert_exporter": "python",
   "pygments_lexer": "ipython3",
   "version": "3.10.12"
  }
 },
 "nbformat": 4,
 "nbformat_minor": 2
}
